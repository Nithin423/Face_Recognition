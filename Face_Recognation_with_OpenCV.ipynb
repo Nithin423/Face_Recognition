{
 "cells": [
  {
   "cell_type": "code",
   "execution_count": 21,
   "id": "ffc15783",
   "metadata": {},
   "outputs": [],
   "source": [
    "import cv2 \n",
    "import numpy as np\n",
    "import face_recognition as fr"
   ]
  },
  {
   "cell_type": "code",
   "execution_count": 22,
   "id": "de6cc9bd",
   "metadata": {},
   "outputs": [],
   "source": [
    "video_capture=cv2.VideoCapture(0)"
   ]
  },
  {
   "cell_type": "code",
   "execution_count": 23,
   "id": "1c5526a0",
   "metadata": {},
   "outputs": [],
   "source": [
    "image=fr.load_image_file('hhh.jpg')"
   ]
  },
  {
   "cell_type": "code",
   "execution_count": 24,
   "id": "a9d13b33",
   "metadata": {},
   "outputs": [],
   "source": [
    "image_face_encoding=fr.face_encodings(image)[0]"
   ]
  },
  {
   "cell_type": "code",
   "execution_count": 25,
   "id": "b75de68c",
   "metadata": {},
   "outputs": [],
   "source": [
    "known_face_encoding=[image_face_encoding]"
   ]
  },
  {
   "cell_type": "code",
   "execution_count": 26,
   "id": "451e5ebb",
   "metadata": {},
   "outputs": [],
   "source": [
    "known_face_names=[\"Nithin\"]"
   ]
  },
  {
   "cell_type": "code",
   "execution_count": 27,
   "id": "06d01269",
   "metadata": {},
   "outputs": [],
   "source": [
    "while True:\n",
    "    ret,frame=video_capture.read()\n",
    "    rgb_frame=frame[:, :, ::-1]\n",
    "    fc_locations=fr.face_locations(rgb_frame)\n",
    "    face_encodings=fr.face_encodings(rgb_frame, fc_locations)\n",
    "    \n",
    "    for(top, right, bottom,left), face_encoding in zip(fc_locations,face_encodings):\n",
    "        matches=fr.compare_faces(known_face_encoding,face_encoding)\n",
    "        \n",
    "        name=\"Unknown\"\n",
    "        \n",
    "        fc_distance=fr.face_distance(known_face_encoding, face_encoding)\n",
    "        \n",
    "        match_index=np.argmin(fc_distance)\n",
    "        \n",
    "        if matches[match_index]:\n",
    "            name=known_face_names[match_index]\n",
    "        cv2.rectangle(frame,(left,top),(right, bottom), (0,0,225),2)\n",
    "        cv2.rectangle(frame,(left,bottom -35),(right, bottom), (0,0,225),cv2.FILLED)\n",
    "        font=cv2.FONT_HERSHEY_SIMPLEX\n",
    "        \n",
    "        cv2.putText(frame,name,(left+6, bottom-6),font, 1.0, (255,255,255),1)\n",
    "    cv2.imshow('Face Recognition',frame)\n",
    "    \n",
    "    if cv2.waitKey(5) &0xFF == ord('p'):\n",
    "        break\n",
    "        \n",
    "video_capture.release()\n",
    "cv2.destroyAllWindows()\n",
    "            "
   ]
  },
  {
   "cell_type": "code",
   "execution_count": null,
   "id": "943d0407",
   "metadata": {},
   "outputs": [],
   "source": []
  },
  {
   "cell_type": "code",
   "execution_count": null,
   "id": "79677843",
   "metadata": {},
   "outputs": [],
   "source": []
  }
 ],
 "metadata": {
  "kernelspec": {
   "display_name": "Python 3 (ipykernel)",
   "language": "python",
   "name": "python3"
  },
  "language_info": {
   "codemirror_mode": {
    "name": "ipython",
    "version": 3
   },
   "file_extension": ".py",
   "mimetype": "text/x-python",
   "name": "python",
   "nbconvert_exporter": "python",
   "pygments_lexer": "ipython3",
   "version": "3.10.9"
  }
 },
 "nbformat": 4,
 "nbformat_minor": 5
}
